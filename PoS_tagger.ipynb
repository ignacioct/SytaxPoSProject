{
 "cells": [
  {
   "cell_type": "markdown",
   "metadata": {},
   "source": [
    "# PoS tagging using HMMs and the Viterbi algorithm\n",
    "\n",
    "This notebook serves as a showcase of the PoS tagger implemented using Viterbi's algorithm. "
   ]
  },
  {
   "cell_type": "code",
   "execution_count": 1,
   "metadata": {},
   "outputs": [],
   "source": [
    "from HMM import HMM\n",
    "\n",
    "import numpy as np\n",
    "from sklearn.metrics import f1_score\n",
    "from sklearn.preprocessing import MultiLabelBinarizer\n",
    "import seaborn as sns\n",
    "import pandas as pd\n",
    "import warnings\n",
    "\n",
    "warnings.filterwarnings('ignore')"
   ]
  },
  {
   "cell_type": "markdown",
   "metadata": {},
   "source": [
    "## First predictions in Basque and Spanish\n",
    "\n",
    "Let's start by making our first predictions with examples in Basque and Spanish, the two languages that were chosen for this exercise. For both cases, the same procedure is followed. We first declare an object of the HMM class with a given name (we use this variable to distinguish languages). Then, we load the .conllu file with the training data, and train the model in the corresponding language. Afterwards, we can make predictions. Each prediction returns two values, the obtained tags after applying Viterbi, and the logarithmic probability of this prediction."
   ]
  },
  {
   "cell_type": "code",
   "execution_count": 2,
   "metadata": {},
   "outputs": [
    {
     "name": "stdout",
     "output_type": "stream",
     "text": [
      "Training the model:  EUS\n",
      "Tagging the sentence:  Nire etxea oso handia da\n",
      "POS:  [('nire', 'PRON'), ('etxea', 'NOUN'), ('oso', 'ADV'), ('handia', 'ADJ'), ('da', 'AUX')]\n",
      "Log probability:  -1042.0\n"
     ]
    },
    {
     "name": "stderr",
     "output_type": "stream",
     "text": [
      "/Users/ignacio/Documents/UPV/SytaxPoSProject/HMM.py:203: RuntimeWarning: invalid value encountered in cast\n",
      "  self.A[i] = np.full((len(self.tags)), float(\"-inf\"))\n"
     ]
    }
   ],
   "source": [
    "basque_hmm = HMM(\"EUS\")\n",
    "\n",
    "print(\"Training the model: \", basque_hmm.name)\n",
    "basque_hmm.train(\"UD_Basque-BDT/eu_bdt-ud-train.conllu\")\n",
    "\n",
    "basque_sentence = \"Nire etxea oso handia da\"\n",
    "print(\"Tagging the sentence: \", basque_sentence)\n",
    "basque_tags, basque_log_prob = basque_hmm.pos_tagging(basque_sentence)\n",
    "print(\"POS: \", basque_tags)\n",
    "print(\"Log probability: \", basque_log_prob)"
   ]
  },
  {
   "cell_type": "code",
   "execution_count": 3,
   "metadata": {},
   "outputs": [
    {
     "name": "stdout",
     "output_type": "stream",
     "text": [
      "Training the model:  ESP\n",
      "Tagging the sentence:  El gato Juan vive aqui\n",
      "POS:  [('el', 'DET'), ('gato', 'NOUN'), ('juan', 'PROPN'), ('vive', 'VERB'), ('aqui', 'NOUN')]\n",
      "Log probability:  -31.0\n"
     ]
    }
   ],
   "source": [
    "spanish_hmm = HMM(\"ESP\")\n",
    "\n",
    "print(\"Training the model: \", spanish_hmm.name)\n",
    "spanish_hmm.train(\"./UD_Spanish-AnCora/es_ancora-ud-train.conllu\")\n",
    "\n",
    "spanish_sentence = \"El gato Juan vive aqui\"\n",
    "print(\"Tagging the sentence: \", spanish_sentence)\n",
    "spanish_tags, spanish_log_prob, = spanish_hmm.pos_tagging(spanish_sentence)\n",
    "print(\"POS: \", spanish_tags)\n",
    "print(\"Log probability: \", spanish_log_prob)"
   ]
  },
  {
   "cell_type": "markdown",
   "metadata": {},
   "source": [
    "## Testing the Viterbi algorithm\n",
    "\n",
    "To train the HMMs, we are using a train split of the Universal Dependencies dataset. A test split can also be used to see how accurate are our models. We have implemented a test function to output several interesting metrics."
   ]
  },
  {
   "cell_type": "code",
   "execution_count": 5,
   "metadata": {},
   "outputs": [
    {
     "name": "stdout",
     "output_type": "stream",
     "text": [
      "Testing the model:  ESP\n"
     ]
    },
    {
     "name": "stderr",
     "output_type": "stream",
     "text": [
      "/Users/ignacio/.local/lib/python3.11/site-packages/sklearn/metrics/_classification.py:1760: UndefinedMetricWarning: F-score is ill-defined and being set to 0.0 in labels with no true nor predicted samples. Use `zero_division` parameter to control this behavior.\n",
      "  _warn_prf(average, \"true nor predicted\", \"F-score is\", len(true_sum))\n"
     ]
    },
    {
     "name": "stdout",
     "output_type": "stream",
     "text": [
      "Accuracy: 0.40991535671100365\n",
      "Recall: 0.9177177622792699\n",
      "Micro-averaged F1 score: 0.9449558806677109\n",
      "Macro-averaged F1 score: 0.6338176712145135\n",
      "---------------------\n",
      "Testing the model:  EUS\n",
      "Accuracy: 0.0011123470522803114\n",
      "Recall: 0.3368869936034115\n",
      "Micro-averaged F1 score: 0.4622457509055447\n",
      "Macro-averaged F1 score: 0.1516984897255314\n"
     ]
    },
    {
     "name": "stderr",
     "output_type": "stream",
     "text": [
      "/Users/ignacio/.local/lib/python3.11/site-packages/sklearn/metrics/_classification.py:1760: UndefinedMetricWarning: F-score is ill-defined and being set to 0.0 in labels with no true nor predicted samples. Use `zero_division` parameter to control this behavior.\n",
      "  _warn_prf(average, \"true nor predicted\", \"F-score is\", len(true_sum))\n"
     ]
    }
   ],
   "source": [
    "print(\"Testing the model: \", spanish_hmm.name)\n",
    "test_scores = spanish_hmm.test(\"./UD_Spanish-AnCora/es_ancora-ud-dev.conllu\")\n",
    "\n",
    "for metric, value in test_scores.items():\n",
    "    print(f\"{metric}: {value}\")\n",
    "\n",
    "print(\"---------------------\")\n",
    "\n",
    "print(\"Testing the model: \", basque_hmm.name)\n",
    "test_scores = spanish_hmm.test(\"./UD_Basque-BDT/eu_bdt-ud-dev.conllu\")\n",
    "\n",
    "for metric, value in test_scores.items():\n",
    "    print(f\"{metric}: {value}\")"
   ]
  },
  {
   "cell_type": "markdown",
   "metadata": {},
   "source": [
    "## Interpreting Viterbi algorithm graphically\n",
    "\n",
    "The Viterbi algorithm is a dynamic programming algorithm used to find the most likely state sequence of a HMM given a sequence of observation. It works by computing the probability of each state at each time step and then using these probabilities to compute the probability of the entire state sequence. The algorithm maintains a matrix of probabilities, where each row represents a state at a particular time step and each column represents a state at the previous time step. We can graphically see this matrix, and understand the decision process of the HMM."
   ]
  },
  {
   "cell_type": "code",
   "execution_count": 9,
   "metadata": {},
   "outputs": [
    {
     "name": "stdout",
     "output_type": "stream",
     "text": [
      "Training the model:  EUS\n",
      "[[-1026. -1034. -1033.   -17. -1043.]\n",
      " [-1027. -1034. -1035. -1041. -1044.]\n",
      " [-1027. -1034.   -14. -1040. -1044.]\n",
      " [-1025. -1036. -1036. -1041.   -20.]\n",
      " [-1026. -1035. -1035. -1040. -1043.]\n",
      " [-1027. -1034. -1035. -1041. -1044.]\n",
      " [-1033. -2052. -1043. -1047. -1050.]\n",
      " [-1023.    -9. -1033. -1038. -1040.]\n",
      " [-2044. -2052. -2053. -2058. -2061.]\n",
      " [-1028. -1034. -1037. -1041. -1045.]\n",
      " [   -8. -1036. -1039. -1043. -1047.]\n",
      " [-1027. -1037. -1035. -1039. -1044.]\n",
      " [-2044. -2052. -2053. -2058. -2061.]\n",
      " [-2044. -2052. -2053. -2058. -2061.]\n",
      " [-2044. -2052. -1044. -2058. -2061.]\n",
      " [-1023. -1032. -1032. -1037.   -21.]\n",
      " [-1025. -1034. -1034. -1039. -1042.]]\n"
     ]
    }
   ],
   "source": [
    "basque_hmm = HMM(\"EUS\")\n",
    "\n",
    "print(\"Training the model: \", basque_hmm.name)\n",
    "basque_hmm.train(\"UD_Basque-BDT/eu_bdt-ud-train.conllu\")\n",
    "\n",
    "basque_sentence = \"Nire etxea oso handia da\"\n",
    "viterbi = basque_hmm.pos_get_viterbi(basque_sentence)\n",
    "max_value = np.max(viterbi[:, -1])\n",
    "\n",
    "df = pd.DataFrame(viterbi, columns=spanish_sentence.split(), index=spanish_hmm.tags)\n",
    "sns.heatmap(df, annot=True, cmap=\"YlGnBu\", vmin=max_value*1.5, vmax=0)"
   ]
  },
  {
   "cell_type": "code",
   "execution_count": 10,
   "metadata": {},
   "outputs": [
    {
     "name": "stdout",
     "output_type": "stream",
     "text": [
      "[[-1026. -1029. -1028. -1036.   -19.]\n",
      " [-1023. -1031. -1027. -1033.   -25.]\n",
      " [-1027. -1033. -1030. -1036.   -21.]\n",
      " [-1027. -1036. -1031. -1035.   -27.]\n",
      " [-1025. -1035. -1029. -1034.   -30.]\n",
      " [   -4. -1031. -1030. -1035.   -23.]\n",
      " [-1034. -2048. -1038. -1043.   -35.]\n",
      " [-1024.    -4. -1031. -1036.   -16.]\n",
      " [-2044. -2048. -2048. -2053. -2056.]\n",
      " [-1033. -1040. -1038. -1042. -1045.]\n",
      " [-1026. -1031. -1029. -1035.   -24.]\n",
      " [-1026.    -9.    -9. -1032.   -19.]\n",
      " [-2044. -2048. -2048. -2053. -2056.]\n",
      " [-1027. -1038. -1031. -1036.   -30.]\n",
      " [-1034. -1033. -1039. -1041.   -34.]\n",
      " [-1026.   -13. -1030.   -12.   -17.]\n",
      " [-1025. -1036. -1029. -1034.   -31.]]\n"
     ]
    },
    {
     "name": "stderr",
     "output_type": "stream",
     "text": [
      "/Users/ignacio/Documents/UPV/SytaxPoSProject/HMM.py:203: RuntimeWarning: invalid value encountered in cast\n",
      "  self.A[i] = np.full((len(self.tags)), float(\"-inf\"))\n"
     ]
    }
   ],
   "source": [
    "spanish_hmm = HMM(\"ESP\")\n",
    "\n",
    "print(\"Training the model: \", spanish_hmm.name)\n",
    "spanish_hmm.train(\"./UD_Spanish-AnCora/es_ancora-ud-train.conllu\")\n",
    "\n",
    "spanish_sentence = \"El gato Juan vive aqui\"\n",
    "viterbi = spanish_hmm.pos_get_viterbi(spanish_sentence)\n",
    "max_value = np.max(viterbi[:, -1])\n",
    "\n",
    "df = pd.DataFrame(viterbi, columns=spanish_sentence.split(), index=spanish_hmm.tags)\n",
    "sns.heatmap(df, annot=True, cmap=\"YlGnBu\", vmin=max_value*1.5, vmax=0)"
   ]
  }
 ],
 "metadata": {
  "kernelspec": {
   "display_name": "SyntaxPoSProject",
   "language": "python",
   "name": "python3"
  },
  "language_info": {
   "codemirror_mode": {
    "name": "ipython",
    "version": 3
   },
   "file_extension": ".py",
   "mimetype": "text/x-python",
   "name": "python",
   "nbconvert_exporter": "python",
   "pygments_lexer": "ipython3",
   "version": "3.11.5"
  }
 },
 "nbformat": 4,
 "nbformat_minor": 2
}
